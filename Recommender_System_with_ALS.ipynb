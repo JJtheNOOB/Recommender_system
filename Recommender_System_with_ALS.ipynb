{
  "nbformat": 4,
  "nbformat_minor": 0,
  "metadata": {
    "colab": {
      "name": "Recommender System with ALS.ipynb",
      "version": "0.3.2",
      "provenance": [],
      "collapsed_sections": [],
      "include_colab_link": true
    },
    "kernelspec": {
      "name": "python3",
      "display_name": "Python 3"
    }
  },
  "cells": [
    {
      "cell_type": "markdown",
      "metadata": {
        "id": "view-in-github",
        "colab_type": "text"
      },
      "source": [
        "<a href=\"https://colab.research.google.com/github/JJtheNOOB/Recommender_system/blob/master/Recommender_System_with_ALS.ipynb\" target=\"_parent\"><img src=\"https://colab.research.google.com/assets/colab-badge.svg\" alt=\"Open In Colab\"/></a>"
      ]
    },
    {
      "cell_type": "code",
      "metadata": {
        "id": "TOgX-87iup28",
        "colab_type": "code",
        "colab": {}
      },
      "source": [
        "#grab java and pyspark\n",
        "!apt-get install openjdk-8-jdk-headless -qq > /dev/null\n",
        "!wget -q http://www-eu.apache.org/dist/spark/spark-2.4.3/spark-2.4.3-bin-hadoop2.7.tgz\n",
        "!tar xf spark-2.4.3-bin-hadoop2.7.tgz\n",
        "!pip install -q findspark\n",
        "#Changing directories\n",
        "import os\n",
        "os.environ[\"JAVA_HOME\"] = \"/usr/lib/jvm/java-8-openjdk-amd64\"\n",
        "os.environ[\"SPARK_HOME\"] = \"/content/spark-2.4.3-bin-hadoop2.7\"\n",
        "\n",
        "import findspark\n",
        "findspark.init()"
      ],
      "execution_count": 0,
      "outputs": []
    },
    {
      "cell_type": "code",
      "metadata": {
        "id": "DRmOr424uu31",
        "colab_type": "code",
        "colab": {}
      },
      "source": [
        "from pyspark.ml.evaluation import RegressionEvaluator\n",
        "from pyspark.ml.recommendation import ALS\n",
        "from pyspark.ml.tuning import TrainValidationSplit, ParamGridBuilder #Measure the performance of the model / fine tuning hyperparameters"
      ],
      "execution_count": 0,
      "outputs": []
    },
    {
      "cell_type": "code",
      "metadata": {
        "id": "WXOoyEjq3VQQ",
        "colab_type": "code",
        "colab": {}
      },
      "source": [
        "from pyspark.sql import SparkSession\n",
        "from pyspark.sql import Row\n",
        "from pyspark.sql import functions"
      ],
      "execution_count": 0,
      "outputs": []
    },
    {
      "cell_type": "code",
      "metadata": {
        "id": "GUKHwlvG3YDX",
        "colab_type": "code",
        "colab": {}
      },
      "source": [
        "def loadMovieNames():\n",
        "    movieNames = {}\n",
        "    with open(\"u.item\", encoding = \"ISO-8859-1\") as f:\n",
        "        for line in f:\n",
        "            fields = line.split('|')\n",
        "            movieNames[int(fields[0])] = fields[1]\n",
        "    return movieNames\n",
        "\n",
        "def parseInput(line):\n",
        "    fields = line.split()\n",
        "    return Row(userID = int(fields[0]), movieID = int(fields[1]), rating = float(fields[2]))"
      ],
      "execution_count": 0,
      "outputs": []
    },
    {
      "cell_type": "code",
      "metadata": {
        "id": "PIbWyFmy3b2s",
        "colab_type": "code",
        "colab": {}
      },
      "source": [
        "# Create a SparkSession\n",
        "spark = SparkSession.builder.appName(\"PopularMovies\").getOrCreate()\n",
        "\n",
        "# Load up our movie ID -> name dictionary\n",
        "movieNames = loadMovieNames()\n",
        "\n",
        "# Get the raw data\n",
        "lines = spark.sparkContext.textFile(\"u.data\")\n",
        "# Convert it to a RDD of Row objects with (movieID, rating)\n",
        "movies = lines.map(parseInput)\n",
        "# Convert that to a DataFrame\n",
        "movie_ratings = spark.createDataFrame(movies)"
      ],
      "execution_count": 0,
      "outputs": []
    },
    {
      "cell_type": "code",
      "metadata": {
        "id": "-Km3h9bwdDLg",
        "colab_type": "code",
        "colab": {
          "base_uri": "https://localhost:8080/",
          "height": 286
        },
        "outputId": "5fb2d5d3-1689-4a6b-abcf-61edad2adb66"
      },
      "source": [
        "movie_ratings.show(10)"
      ],
      "execution_count": 11,
      "outputs": [
        {
          "output_type": "stream",
          "text": [
            "+-------+------+------+\n",
            "|movieID|rating|userID|\n",
            "+-------+------+------+\n",
            "|     50|   5.0|     0|\n",
            "|    172|   5.0|     0|\n",
            "|    133|   1.0|     0|\n",
            "|    242|   3.0|   196|\n",
            "|    302|   3.0|   186|\n",
            "|    377|   1.0|    22|\n",
            "|     51|   2.0|   244|\n",
            "|    346|   1.0|   166|\n",
            "|    474|   4.0|   298|\n",
            "|    265|   2.0|   115|\n",
            "+-------+------+------+\n",
            "only showing top 10 rows\n",
            "\n"
          ],
          "name": "stdout"
        }
      ]
    },
    {
      "cell_type": "code",
      "metadata": {
        "id": "xmKz4X5pu7xI",
        "colab_type": "code",
        "colab": {}
      },
      "source": [
        "#Create test and train set\n",
        "(train, test) = movie_ratings.randomSplit([0.8, 0.2])"
      ],
      "execution_count": 0,
      "outputs": []
    },
    {
      "cell_type": "code",
      "metadata": {
        "id": "7Y8USbFNu73d",
        "colab_type": "code",
        "colab": {}
      },
      "source": [
        "#Create ALS model\n",
        "#We do not want any negative predictions\n",
        "als = ALS(userCol = 'userID', itemCol = 'movieID', ratingCol = 'rating', coldStartStrategy= 'drop', nonnegative= True)"
      ],
      "execution_count": 0,
      "outputs": []
    },
    {
      "cell_type": "code",
      "metadata": {
        "id": "rjTJ1S8_u76T",
        "colab_type": "code",
        "colab": {}
      },
      "source": [
        "#Tuning model using ParamGridBuilder\n",
        "param_grid = ParamGridBuilder() \\\n",
        ".addGrid(als.rank, [12, 13, 14]) \\\n",
        ".addGrid(als.maxIter, [18, 19, 20]) \\\n",
        ".addGrid(als.regParam, [.17, .18, .19]) \\\n",
        ".build()"
      ],
      "execution_count": 0,
      "outputs": []
    },
    {
      "cell_type": "code",
      "metadata": {
        "id": "GnMmbZ9du7_Y",
        "colab_type": "code",
        "colab": {}
      },
      "source": [
        "#Define evaluator as RMSE\n",
        "evaluator = RegressionEvaluator(metricName=\"rmse\", labelCol=\"rating\", predictionCol=\"prediction\")"
      ],
      "execution_count": 0,
      "outputs": []
    },
    {
      "cell_type": "code",
      "metadata": {
        "id": "WwOd0Pfou8Bw",
        "colab_type": "code",
        "colab": {}
      },
      "source": [
        "#Build cross validation with TrainValidationSplit\n",
        "tvs = TrainValidationSplit(estimator=als, estimatorParamMaps=param_grid, evaluator=evaluator)\n",
        "\n",
        "#cv = CrossValidator(estimator = als, estimatorParamMaps = param_grid, evaluator = evaluator, numFolds = 3)"
      ],
      "execution_count": 0,
      "outputs": []
    },
    {
      "cell_type": "code",
      "metadata": {
        "id": "umHc7mBDu8EU",
        "colab_type": "code",
        "colab": {}
      },
      "source": [
        "#Fit AlS model to training dataset\n",
        "model = tvs.fit(train)"
      ],
      "execution_count": 0,
      "outputs": []
    },
    {
      "cell_type": "code",
      "metadata": {
        "id": "n7b6iX-9u8GZ",
        "colab_type": "code",
        "colab": {}
      },
      "source": [
        "#Extract the best model\n",
        "best_model = model.bestModel"
      ],
      "execution_count": 0,
      "outputs": []
    },
    {
      "cell_type": "code",
      "metadata": {
        "id": "3d08u-Z_xIVe",
        "colab_type": "code",
        "colab": {}
      },
      "source": [
        "#Generate predictions and evaluate using RMSE\n",
        "predictions = best_model.transform(test)\n",
        "rmse = evaluator.evaluate(predictions)"
      ],
      "execution_count": 0,
      "outputs": []
    },
    {
      "cell_type": "code",
      "metadata": {
        "id": "BQE-TNcVxIYL",
        "colab_type": "code",
        "colab": {
          "base_uri": "https://localhost:8080/",
          "height": 101
        },
        "outputId": "6ae0d955-f7ff-4a23-9e95-83eaf16f4659"
      },
      "source": [
        "#Print evaluation metrics and model parameters\n",
        "print(\"RMSE = \" + str(rmse))\n",
        "print(\"**Best Model**\")\n",
        "print(\"  Rank: {}\".format(best_model.rank))\n",
        "print(\"  MaxIter: {}\".format(best_model._java_obj.parent().getMaxIter()))\n",
        "print(\"  RegParam: {}\".format(best_model._java_obj.parent().getRegParam()))"
      ],
      "execution_count": 65,
      "outputs": [
        {
          "output_type": "stream",
          "text": [
            "RMSE = 0.9140117363885056\n",
            "**Best Model**\n",
            "  Rank: 10\n",
            "  MaxIter: 10\n",
            "  RegParam: 0.1\n"
          ],
          "name": "stdout"
        }
      ]
    },
    {
      "cell_type": "code",
      "metadata": {
        "id": "TBMMUYjItfHq",
        "colab_type": "code",
        "colab": {
          "base_uri": "https://localhost:8080/",
          "height": 34
        },
        "outputId": "bdaa5a53-7ebf-4679-9ea2-a5be1fa1e0eb"
      },
      "source": [
        "best_model._java_obj.parent().getRegParam()"
      ],
      "execution_count": 35,
      "outputs": [
        {
          "output_type": "execute_result",
          "data": {
            "text/plain": [
              "0.1"
            ]
          },
          "metadata": {
            "tags": []
          },
          "execution_count": 35
        }
      ]
    },
    {
      "cell_type": "code",
      "metadata": {
        "id": "e6Vji8EKt5EX",
        "colab_type": "code",
        "colab": {
          "base_uri": "https://localhost:8080/",
          "height": 454
        },
        "outputId": "6e7cb02c-b70f-4cd8-e27a-a31adadfc8f1"
      },
      "source": [
        "predictions.sort(\"userID\", \"rating\").show()"
      ],
      "execution_count": 46,
      "outputs": [
        {
          "output_type": "stream",
          "text": [
            "+-------+------+------+----------+\n",
            "|movieID|rating|userID|prediction|\n",
            "+-------+------+------+----------+\n",
            "|    247|   1.0|     1| 1.5480329|\n",
            "|    254|   1.0|     1| 1.7032442|\n",
            "|    104|   1.0|     1| 1.5732744|\n",
            "|    213|   2.0|     1| 4.0008407|\n",
            "|    155|   2.0|     1| 2.8452184|\n",
            "|    105|   2.0|     1| 2.3112144|\n",
            "|     27|   2.0|     1| 2.6857083|\n",
            "|    149|   2.0|     1| 3.4934838|\n",
            "|     30|   3.0|     1| 4.2438455|\n",
            "|    272|   3.0|     1|  4.513656|\n",
            "|     83|   3.0|     1|  3.981583|\n",
            "|      4|   3.0|     1| 3.8707056|\n",
            "|    215|   3.0|     1| 3.7305856|\n",
            "|    200|   3.0|     1|  3.845335|\n",
            "|    189|   3.0|     1|  4.022809|\n",
            "|      2|   3.0|     1| 2.9541957|\n",
            "|    205|   3.0|     1|  4.137641|\n",
            "|    232|   3.0|     1| 2.9891453|\n",
            "|     38|   3.0|     1|   2.28269|\n",
            "|    214|   4.0|     1| 3.6274855|\n",
            "+-------+------+------+----------+\n",
            "only showing top 20 rows\n",
            "\n"
          ],
          "name": "stdout"
        }
      ]
    },
    {
      "cell_type": "code",
      "metadata": {
        "id": "1w8_tYJExIaD",
        "colab_type": "code",
        "colab": {}
      },
      "source": [
        "#Top 10 recommendor for each user\n",
        "user_rec = best_model.recommendForAllUsers(10)"
      ],
      "execution_count": 0,
      "outputs": []
    },
    {
      "cell_type": "code",
      "metadata": {
        "id": "Iqqw7X4HxIjS",
        "colab_type": "code",
        "colab": {}
      },
      "source": [
        "def get_recs_for_user(recs):\n",
        "  '''\n",
        "  recs should be for a specific user\n",
        "  '''\n",
        "  recs = recs.select(\"recommendations.movieID\", \"recommendations.rating\")\n",
        "  movies = recs.select(\"movieId\").toPandas().iloc[0, 0]\n",
        "  ratings = recs.select(\"rating\").toPandas().iloc[0, 0]\n",
        "  ratings_matrix = pd.DataFrame(movies, columns = [\"movieId\"])\n",
        "  ratings_matrix[\"ratings\"] = ratings\n",
        "  ratings_matrix_ps = spark.createDataFrame(data = ratings_matrix)\n",
        "  return ratings_matrix_ps\n",
        "  "
      ],
      "execution_count": 0,
      "outputs": []
    },
    {
      "cell_type": "code",
      "metadata": {
        "id": "3QDx8Z1fxIns",
        "colab_type": "code",
        "colab": {
          "base_uri": "https://localhost:8080/",
          "height": 269
        },
        "outputId": "9ff9eb4d-4645-47d1-a9f4-a86316553e28"
      },
      "source": [
        "import pandas as pd\n",
        "from pyspark.sql import SQLContext\n",
        "db = get_recs_for_user(user_rec)\n",
        "db.show()"
      ],
      "execution_count": 61,
      "outputs": [
        {
          "output_type": "stream",
          "text": [
            "+-------+------------------+\n",
            "|movieId|           ratings|\n",
            "+-------+------------------+\n",
            "|   1159| 6.172708511352539|\n",
            "|   1260| 5.787796974182129|\n",
            "|    113| 5.293854236602783|\n",
            "|   1294|5.2445831298828125|\n",
            "|   1589| 5.174691677093506|\n",
            "|    361| 5.171027183532715|\n",
            "|   1217| 5.169522762298584|\n",
            "|   1061| 5.141602516174316|\n",
            "|   1275| 5.087820529937744|\n",
            "|    394| 5.043245315551758|\n",
            "+-------+------------------+\n",
            "\n"
          ],
          "name": "stdout"
        }
      ]
    },
    {
      "cell_type": "code",
      "metadata": {
        "id": "bEUtKuLKxIqJ",
        "colab_type": "code",
        "colab": {}
      },
      "source": [
        ""
      ],
      "execution_count": 0,
      "outputs": []
    }
  ]
}